{
 "cells": [
  {
   "cell_type": "markdown",
   "metadata": {},
   "source": [
    "### Identifying State Transitions in Melanoma During Drug-Induced Idling\n",
    "C Heiser, Spring 2019  \n",
    "  \n",
    "---\n",
    "The purpose of this work is to use cell lineage tracing via molecular barcodes and single-cell transcriptomic analyses to identify population-level heterogeneity and cell-state plasticity in BRAF-mutated melanoma (SKMEL5). "
   ]
  },
  {
   "cell_type": "markdown",
   "metadata": {},
   "source": [
    "Requirements:  \n",
    "[`codyheiser/seq-tools/`](https://github.com/codyheiser/seq-tools)"
   ]
  },
  {
   "cell_type": "code",
   "execution_count": 1,
   "metadata": {},
   "outputs": [
    {
     "name": "stderr",
     "output_type": "stream",
     "text": [
      "Using TensorFlow backend.\n"
     ]
    }
   ],
   "source": [
    "# load files and packages\n",
    "from fst_utils import *\n",
    "from fcc_utils import *\n",
    "from fcc_DRs import *\n",
    "from utilityfunctions import *\n",
    "sys.path.append('../seq-tools/'); from seq_analysis import *\n",
    "\n",
    "%matplotlib inline"
   ]
  },
  {
   "cell_type": "markdown",
   "metadata": {},
   "source": [
    "---\n",
    "Read in scRNA-seq data with associated barcode UMIs"
   ]
  },
  {
   "cell_type": "code",
   "execution_count": 2,
   "metadata": {},
   "outputs": [
    {
     "name": "stdout",
     "output_type": "stream",
     "text": [
      "CPU times: user 32.8 s, sys: 5.97 s, total: 38.8 s\n",
      "Wall time: 39.9 s\n"
     ]
    }
   ],
   "source": [
    "%%time\n",
    "# untreated control BRAF melanoma cell line (SKMEL5)\n",
    "U = RNA_counts.from_file(datafile='untreated/untreated_raw.csv.gz', cells_axis=1, barcodefile='untreated/Untreated_LineageBC_cellBC.csv')\n",
    "# treated, idling BRAF melanoma cell line (SKMEL5)\n",
    "I = RNA_counts.from_file(datafile='idling/treated_raw.csv.gz', cells_axis=1, barcodefile='idling/Treated_LineageBC_cellBC.csv')"
   ]
  },
  {
   "cell_type": "markdown",
   "metadata": {},
   "source": [
    "Normalize barcode counts within each scRNA-seq set "
   ]
  },
  {
   "cell_type": "code",
   "execution_count": 3,
   "metadata": {},
   "outputs": [],
   "source": [
    "U_RNA_counts = pd.DataFrame(U.barcode_counts(IDs='all'))\n",
    "U_RNA_counts_norm = U_RNA_counts.div(U_RNA_counts.sum(axis=0), axis=1)"
   ]
  },
  {
   "cell_type": "code",
   "execution_count": 4,
   "metadata": {},
   "outputs": [],
   "source": [
    "I_RNA_counts = pd.DataFrame(I.barcode_counts(IDs='all'))\n",
    "I_RNA_counts_norm = I_RNA_counts.div(I_RNA_counts.sum(axis=0), axis=1)"
   ]
  },
  {
   "cell_type": "markdown",
   "metadata": {},
   "source": [
    "Read in associated __Read 1__ barcode assay results files, where barcodes were extracted using  \n",
    "[`codyheiser/seq-tools/seq_extraction.sh`](https://github.com/codyheiser/seq-tools)"
   ]
  },
  {
   "cell_type": "code",
   "execution_count": 5,
   "metadata": {},
   "outputs": [
    {
     "name": "stdout",
     "output_type": "stream",
     "text": [
      "CPU times: user 13.8 s, sys: 734 ms, total: 14.5 s\n",
      "Wall time: 14.9 s\n"
     ]
    }
   ],
   "source": [
    "%%time\n",
    "U_R1 = pd.read_csv(gzip.open('untreated/2898-CH-1-CGAAACAT-GTTCAGAG_S1_R1_001.txt.gz'), sep='\\t', header=None)\n",
    "I_R1 = pd.read_csv(gzip.open('idling/2898-CH-2-GGCCACAT-GTTCAGAG_S2_R1_001.txt.gz'), sep='\\t', header=None)"
   ]
  },
  {
   "cell_type": "markdown",
   "metadata": {},
   "source": [
    "Read in associated __Read 2__ barcode assay results files, where barcodes were extracted using  \n",
    "[`codyheiser/seq-tools/seq_extraction.sh`](https://github.com/codyheiser/seq-tools)  \n",
    "and [`codyheiser/seq-tools/rev_comp.sh`](https://github.com/codyheiser/seq-tools)"
   ]
  },
  {
   "cell_type": "code",
   "execution_count": 6,
   "metadata": {},
   "outputs": [
    {
     "name": "stdout",
     "output_type": "stream",
     "text": [
      "CPU times: user 13 s, sys: 790 ms, total: 13.7 s\n",
      "Wall time: 14 s\n"
     ]
    }
   ],
   "source": [
    "%%time\n",
    "U_R2 = pd.read_csv(gzip.open('untreated/2898-CH-1-CGAAACAT-GTTCAGAG_S1_R2_001_REVCOMP.txt.gz'), sep='\\t', header=None)\n",
    "I_R2 = pd.read_csv(gzip.open('idling/2898-CH-2-GGCCACAT-GTTCAGAG_S2_R2_001_REVCOMP.txt.gz'), sep='\\t', header=None)"
   ]
  },
  {
   "cell_type": "markdown",
   "metadata": {},
   "source": [
    "Now add UMIs from __Read 1__ and __Read 2__ to get totals"
   ]
  },
  {
   "cell_type": "code",
   "execution_count": 7,
   "metadata": {},
   "outputs": [],
   "source": [
    "U_bc = U_R1.append(U_R2)\n",
    "I_bc = I_R1.append(I_R2)"
   ]
  },
  {
   "cell_type": "markdown",
   "metadata": {},
   "source": [
    "Count unique barcode abundances in untreated and idling datasets"
   ]
  },
  {
   "cell_type": "code",
   "execution_count": 8,
   "metadata": {},
   "outputs": [],
   "source": [
    "U_bc_counts = pd.DataFrame(U_bc[0].value_counts())\n",
    "U_bc_counts.rename(index=str, columns={0: \"Count\"}, inplace=True)"
   ]
  },
  {
   "cell_type": "code",
   "execution_count": 9,
   "metadata": {},
   "outputs": [],
   "source": [
    "I_bc_counts = pd.DataFrame(I_bc[0].value_counts())\n",
    "I_bc_counts.rename(index=str, columns={0: \"Count\"}, inplace=True)"
   ]
  },
  {
   "cell_type": "markdown",
   "metadata": {},
   "source": [
    "Finally, convert counts to fractions of total to normalize for comparison with scRNA-seq data"
   ]
  },
  {
   "cell_type": "code",
   "execution_count": 10,
   "metadata": {},
   "outputs": [],
   "source": [
    "U_bc_counts_norm = U_bc_counts.div(U_bc_counts.sum(axis=0), axis=1)\n",
    "I_bc_counts_norm = I_bc_counts.div(I_bc_counts.sum(axis=0), axis=1)"
   ]
  },
  {
   "cell_type": "markdown",
   "metadata": {},
   "source": [
    "---\n",
    "Merge scRNA-seq and targeted barcode assay datasets on barcode and print overlay"
   ]
  },
  {
   "cell_type": "code",
   "execution_count": 11,
   "metadata": {},
   "outputs": [],
   "source": [
    "U_totalcounts = U_RNA_counts_norm.merge(U_bc_counts_norm, left_index=True, right_index=True, how='inner')\n",
    "U_totalcounts.rename(columns={'Barcode':'U_RNA', 'Count':'U_BC'}, inplace=True)"
   ]
  },
  {
   "cell_type": "code",
   "execution_count": 12,
   "metadata": {},
   "outputs": [
    {
     "data": {
      "image/png": "[encoded data removed]",
      "text/plain": [
       "<Figure size 360x360 with 1 Axes>"
      ]
     },
     "metadata": {
      "needs_background": "light"
     },
     "output_type": "display_data"
    }
   ],
   "source": [
    "# plot abundance of barcodes to use for distance calcs\n",
    "plt.figure(figsize=(5,5))\n",
    "U_totalcounts['U_RNA'].plot(label='scRNA-seq', legend=True)\n",
    "U_totalcounts['U_BC'].plot(label='Barcode Assay', legend=True)\n",
    "plt.title('Untreated SKMEL5')\n",
    "plt.ylabel('Fraction of total UMIs')\n",
    "sns.despine()\n",
    "plt.show()"
   ]
  },
  {
   "cell_type": "code",
   "execution_count": 13,
   "metadata": {},
   "outputs": [],
   "source": [
    "I_totalcounts = I_RNA_counts_norm.merge(I_bc_counts_norm, left_index=True, right_index=True, how='inner')\n",
    "I_totalcounts.rename(columns={'Barcode':'I_RNA', 'Count':'I_BC'}, inplace=True)"
   ]
  },
  {
   "cell_type": "code",
   "execution_count": 14,
   "metadata": {},
   "outputs": [
    {
     "data": {
      "image/png": "[encoded data removed]",
      "text/plain": [
       "<Figure size 360x360 with 1 Axes>"
      ]
     },
     "metadata": {
      "needs_background": "light"
     },
     "output_type": "display_data"
    }
   ],
   "source": [
    "# plot abundance of barcodes to use for distance calcs\n",
    "plt.figure(figsize=(5,5))\n",
    "I_totalcounts['I_RNA'].plot(label='scRNA-seq', legend=True)\n",
    "I_totalcounts['I_BC'].plot(label='Barcode Assay', legend=True)\n",
    "plt.title('Idling SKMEL5')\n",
    "plt.ylabel('Fraction of total UMIs')\n",
    "sns.despine()\n",
    "plt.show()"
   ]
  },
  {
   "cell_type": "markdown",
   "metadata": {},
   "source": [
    "Targeted barcode assay __corroborates barcode abundance__ from scRNA-seq results.  \n",
    "We can confidently trust UMI counts for barcodes in RNA-seq data and use barcode subpopulations to investigate cell state transitions."
   ]
  },
  {
   "cell_type": "markdown",
   "metadata": {},
   "source": [
    "---\n",
    "Perform dimensionality reduction on scRNA-seq results for _untreated_ (U) and _idling_ (I) SKMEL5 cells."
   ]
  },
  {
   "cell_type": "code",
   "execution_count": null,
   "metadata": {},
   "outputs": [],
   "source": []
  }
 ],
 "metadata": {
  "kernelspec": {
   "display_name": "Python 3",
   "language": "python",
   "name": "python3"
  },
  "language_info": {
   "codemirror_mode": {
    "name": "ipython",
    "version": 3
   },
   "file_extension": ".py",
   "mimetype": "text/x-python",
   "name": "python",
   "nbconvert_exporter": "python",
   "pygments_lexer": "ipython3",
   "version": "3.6.5"
  }
 },
 "nbformat": 4,
 "nbformat_minor": 2
}
